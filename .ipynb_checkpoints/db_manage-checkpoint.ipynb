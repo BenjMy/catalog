{
 "cells": [
  {
   "cell_type": "code",
   "execution_count": 34,
   "id": "eastern-sample",
   "metadata": {},
   "outputs": [],
   "source": [
    "import pandas as pd\n",
    "import json\n",
    "import ipywidgets as widgets\n",
    "from ipywidgets import interactive\n",
    "import qgrid\n",
    "import numpy as np\n",
    "import datetime\n",
    "from dcxml import simpledc"
   ]
  },
  {
   "cell_type": "code",
   "execution_count": null,
   "id": "closed-evaluation",
   "metadata": {},
   "outputs": [],
   "source": [
    "#%% read db.csv\n",
    "db = pd.read_csv('db.csv')"
   ]
  },
  {
   "cell_type": "code",
   "execution_count": 27,
   "id": "opening-discipline",
   "metadata": {},
   "outputs": [],
   "source": [
    "#save a backup with date flag\n",
    "today = datetime.date.today()\n",
    "db.to_csv('db' + str(today) +'.csv',sep=',')"
   ]
  },
  {
   "cell_type": "code",
   "execution_count": 30,
   "id": "behavioral-theorem",
   "metadata": {},
   "outputs": [
    {
     "data": {
      "text/html": [
       "<div>\n",
       "<style scoped>\n",
       "    .dataframe tbody tr th:only-of-type {\n",
       "        vertical-align: middle;\n",
       "    }\n",
       "\n",
       "    .dataframe tbody tr th {\n",
       "        vertical-align: top;\n",
       "    }\n",
       "\n",
       "    .dataframe thead th {\n",
       "        text-align: right;\n",
       "    }\n",
       "</style>\n",
       "<table border=\"1\" class=\"dataframe\">\n",
       "  <thead>\n",
       "    <tr style=\"text-align: right;\">\n",
       "      <th></th>\n",
       "      <th>surname</th>\n",
       "      <th>name</th>\n",
       "      <th>organisation</th>\n",
       "      <th>email</th>\n",
       "      <th>contributionType</th>\n",
       "      <th>title</th>\n",
       "      <th>publiDate</th>\n",
       "      <th>publicationLink</th>\n",
       "      <th>authors</th>\n",
       "      <th>keywords</th>\n",
       "      <th>...</th>\n",
       "      <th>species</th>\n",
       "      <th>organ</th>\n",
       "      <th>land_use</th>\n",
       "      <th>soil</th>\n",
       "      <th>water</th>\n",
       "      <th>Ancillary_meas</th>\n",
       "      <th>dataLink</th>\n",
       "      <th>licence</th>\n",
       "      <th>icon_img</th>\n",
       "      <th>notebook_file</th>\n",
       "    </tr>\n",
       "  </thead>\n",
       "  <tbody>\n",
       "    <tr>\n",
       "      <th>0</th>\n",
       "      <td>Jan</td>\n",
       "      <td>Vanderborght</td>\n",
       "      <td>KU Leuven</td>\n",
       "      <td>j.vanderborght@fz-juelich.de</td>\n",
       "      <td>Peer reviewed publication</td>\n",
       "      <td>Spatial variability of soil water content and ...</td>\n",
       "      <td>2017-10-27</td>\n",
       "      <td>https://doi.org/10.1016/j.geoderma.2017.10.045</td>\n",
       "      <td>None</td>\n",
       "      <td>Soil water content, Electromagnetic induction,...</td>\n",
       "      <td>...</td>\n",
       "      <td>Glycine max (Soybean), Nicotiana tabacum (Toba...</td>\n",
       "      <td></td>\n",
       "      <td>Arable land, Forest</td>\n",
       "      <td>Acrisols, Cambisols, Leptosols</td>\n",
       "      <td>Rain fed</td>\n",
       "      <td>Soil Water Content</td>\n",
       "      <td></td>\n",
       "      <td>Open source</td>\n",
       "      <td>Fig 8.PDF.PDF</td>\n",
       "      <td>None</td>\n",
       "    </tr>\n",
       "  </tbody>\n",
       "</table>\n",
       "<p>1 rows × 32 columns</p>\n",
       "</div>"
      ],
      "text/plain": [
       "  surname          name organisation                         email  \\\n",
       "0     Jan  Vanderborght    KU Leuven  j.vanderborght@fz-juelich.de   \n",
       "\n",
       "            contributionType  \\\n",
       "0  Peer reviewed publication   \n",
       "\n",
       "                                               title   publiDate  \\\n",
       "0  Spatial variability of soil water content and ...  2017-10-27   \n",
       "\n",
       "                                  publicationLink authors  \\\n",
       "0  https://doi.org/10.1016/j.geoderma.2017.10.045    None   \n",
       "\n",
       "                                            keywords  ...  \\\n",
       "0  Soil water content, Electromagnetic induction,...  ...   \n",
       "\n",
       "                                             species organ  \\\n",
       "0  Glycine max (Soybean), Nicotiana tabacum (Toba...         \n",
       "\n",
       "              land_use                            soil     water  \\\n",
       "0  Arable land, Forest  Acrisols, Cambisols, Leptosols  Rain fed   \n",
       "\n",
       "       Ancillary_meas dataLink      licence       icon_img notebook_file  \n",
       "0  Soil Water Content           Open source  Fig 8.PDF.PDF          None  \n",
       "\n",
       "[1 rows x 32 columns]"
      ]
     },
     "execution_count": 30,
     "metadata": {},
     "output_type": "execute_result"
    }
   ],
   "source": [
    "#%% read new_contrib.json\n",
    "json_name = 'backup/v01/json_array_Vanderborght_Jan_2020-11-01 11_30_11'\n",
    "with open(json_name + '.txt') as f:\n",
    "    json2parse = json.load(f)\n",
    "    df2add = pd.json_normalize(json2parse)\n",
    "df2add"
   ]
  },
  {
   "cell_type": "code",
   "execution_count": 32,
   "id": "solar-swiss",
   "metadata": {},
   "outputs": [
    {
     "data": {
      "text/plain": [
       "surname             object\n",
       "name                object\n",
       "organisation        object\n",
       "email               object\n",
       "contributionType    object\n",
       "title               object\n",
       "publiDate           object\n",
       "publicationLink     object\n",
       "authors             object\n",
       "keywords            object\n",
       "comment             object\n",
       "longitude           object\n",
       "latitude            object\n",
       "prospectionType     object\n",
       "SpatialScale        object\n",
       "TemporalScale       object\n",
       "Temperature         object\n",
       "instrument          object\n",
       "dimension           object\n",
       "permanentSetup      object\n",
       "software            object\n",
       "licence_soft        object\n",
       "species             object\n",
       "organ               object\n",
       "land_use            object\n",
       "soil                object\n",
       "water               object\n",
       "Ancillary_meas      object\n",
       "dataLink            object\n",
       "licence             object\n",
       "icon_img            object\n",
       "notebook_file       object\n",
       "dtype: object"
      ]
     },
     "execution_count": 32,
     "metadata": {},
     "output_type": "execute_result"
    }
   ],
   "source": [
    "#%% check for duplicates before adding the new contrib\n",
    "#df2add.dtypes"
   ]
  },
  {
   "cell_type": "code",
   "execution_count": null,
   "id": "latter-criterion",
   "metadata": {},
   "outputs": [],
   "source": [
    "#try\n",
    "# id incrementation\n",
    "df2add['id']=db['id'].max()+1\n",
    "\n",
    "#%% append\n",
    "dbnew = db.append(df2add)\n",
    "\n",
    "#%% save\n",
    "dbnew.to_csv('db.csv',sep=',')"
   ]
  },
  {
   "cell_type": "code",
   "execution_count": null,
   "id": "identified-prairie",
   "metadata": {},
   "outputs": [],
   "source": [
    "#db.iloc[:,2].fillna('test')\n",
    "#db.iloc[:,2].replace('test',np.nan)\n",
    "#db.iloc[:,2]\n",
    "#db.loc[1, :]\n",
    "#db[db[\"name\"] == \"Mary\"]\n",
    "#data = data.drop([0,1,2], axis=0) # delete row\n",
    "#data = data.drop(\"Area\", axis=1) # delete collumn\n",
    "#db = db.drop(columns=\"email\")  # delete collumn\n",
    "# Using DataFrame.insert() to add a column \n",
    "# df.insert(2, \"Age\", [21, 23, 24, 21], True) \n",
    "#db.dtypes\n",
    "#db.iloc[:,2]"
   ]
  },
  {
   "cell_type": "code",
   "execution_count": null,
   "id": "soviet-vehicle",
   "metadata": {},
   "outputs": [],
   "source": [
    "# backward compatibility with Dublin Core standart\n",
    "dictdb = db.loc[1, :].to_dict()\n",
    "dictdb\n",
    "xml = simpledc.tostring(dictdb)\n",
    "for l in xml.splitlines()[2:-1]:\n",
    "     print(l)"
   ]
  }
 ],
 "metadata": {
  "kernelspec": {
   "display_name": "Python 3",
   "language": "python",
   "name": "python3"
  },
  "language_info": {
   "codemirror_mode": {
    "name": "ipython",
    "version": 3
   },
   "file_extension": ".py",
   "mimetype": "text/x-python",
   "name": "python",
   "nbconvert_exporter": "python",
   "pygments_lexer": "ipython3",
   "version": "3.7.9"
  }
 },
 "nbformat": 4,
 "nbformat_minor": 5
}
