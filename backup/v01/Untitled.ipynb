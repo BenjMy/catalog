{
 "cells": [
  {
   "cell_type": "code",
   "execution_count": 1,
   "id": "nervous-campus",
   "metadata": {},
   "outputs": [
    {
     "ename": "ModuleNotFoundError",
     "evalue": "No module named 'bas_metadata_library'",
     "output_type": "error",
     "traceback": [
      "\u001b[1;31m---------------------------------------------------------------------------\u001b[0m",
      "\u001b[1;31mModuleNotFoundError\u001b[0m                       Traceback (most recent call last)",
      "\u001b[1;32m<ipython-input-1-92de850035cd>\u001b[0m in \u001b[0;36m<module>\u001b[1;34m\u001b[0m\n\u001b[0;32m      1\u001b[0m \u001b[1;32mfrom\u001b[0m \u001b[0mdatetime\u001b[0m \u001b[1;32mimport\u001b[0m \u001b[0mdate\u001b[0m\u001b[1;33m\u001b[0m\u001b[1;33m\u001b[0m\u001b[0m\n\u001b[1;32m----> 2\u001b[1;33m \u001b[1;32mfrom\u001b[0m \u001b[0mbas_metadata_library\u001b[0m\u001b[1;33m.\u001b[0m\u001b[0mstandards\u001b[0m\u001b[1;33m.\u001b[0m\u001b[0miso_19115_2_v1\u001b[0m \u001b[1;32mimport\u001b[0m \u001b[0mMetadataRecordConfig\u001b[0m\u001b[1;33m,\u001b[0m \u001b[0mMetadataRecord\u001b[0m\u001b[1;33m\u001b[0m\u001b[1;33m\u001b[0m\u001b[0m\n\u001b[0m\u001b[0;32m      3\u001b[0m \u001b[1;33m\u001b[0m\u001b[0m\n\u001b[0;32m      4\u001b[0m minimal_record_config = {\n\u001b[0;32m      5\u001b[0m     \u001b[1;34m\"language\"\u001b[0m\u001b[1;33m:\u001b[0m \u001b[1;34m\"eng\"\u001b[0m\u001b[1;33m,\u001b[0m\u001b[1;33m\u001b[0m\u001b[1;33m\u001b[0m\u001b[0m\n",
      "\u001b[1;31mModuleNotFoundError\u001b[0m: No module named 'bas_metadata_library'"
     ]
    }
   ],
   "source": [
    "from datetime import date\n",
    "from bas_metadata_library.standards.iso_19115_2_v1 import MetadataRecordConfig, MetadataRecord\n",
    "\n",
    "minimal_record_config = {\n",
    "    \"language\": \"eng\",\n",
    "    \"character_set\": \"utf-8\",\n",
    "    \"hierarchy_level\": \"dataset\",\n",
    "    \"contacts\": [{\"organisation\": {\"name\": \"UK Polar Data Centre\"}, \"role\": [\"pointOfContact\"]}],\n",
    "    \"date_stamp\": date(2018, 10, 18),\n",
    "    \"resource\": {\n",
    "        \"title\": {\"value\": \"Test Record\"},\n",
    "        \"dates\": [{\"date\": date(2018, 1, 1), \"date_precision\": \"year\", \"date_type\": \"creation\"}],\n",
    "        \"abstract\": \"Test Record for ISO 19115 metadata standard (no profile) with required properties only.\",\n",
    "        \"character_set\": \"utf-8\",\n",
    "        \"language\": \"eng\",\n",
    "        \"topics\": [\"environment\", \"climatologyMeteorologyAtmosphere\"],\n",
    "        \"extent\": {\n",
    "            \"geographic\": {\n",
    "                \"bounding_box\": {\n",
    "                    \"west_longitude\": -45.61521,\n",
    "                    \"east_longitude\": -27.04976,\n",
    "                    \"south_latitude\": -68.1511,\n",
    "                    \"north_latitude\": -54.30761,\n",
    "                }\n",
    "            }\n",
    "        },\n",
    "    },\n",
    "}\n",
    "configuration = MetadataRecordConfig(**minimal_record_config)\n",
    "record = MetadataRecord(configuration=configuration)\n",
    "document = record.generate_xml_document()\n",
    "\n",
    "# output document\n",
    "print(document)"
   ]
  },
  {
   "cell_type": "code",
   "execution_count": null,
   "id": "noticed-hammer",
   "metadata": {},
   "outputs": [],
   "source": []
  },
  {
   "cell_type": "code",
   "execution_count": null,
   "id": "governmental-luther",
   "metadata": {},
   "outputs": [],
   "source": []
  }
 ],
 "metadata": {
  "kernelspec": {
   "display_name": "Python 3",
   "language": "python",
   "name": "python3"
  },
  "language_info": {
   "codemirror_mode": {
    "name": "ipython",
    "version": 3
   },
   "file_extension": ".py",
   "mimetype": "text/x-python",
   "name": "python",
   "nbconvert_exporter": "python",
   "pygments_lexer": "ipython3",
   "version": "3.7.9"
  }
 },
 "nbformat": 4,
 "nbformat_minor": 5
}
